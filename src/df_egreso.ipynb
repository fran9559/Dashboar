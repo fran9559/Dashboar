{
 "cells": [
  {
   "cell_type": "code",
   "execution_count": 6,
   "metadata": {},
   "outputs": [],
   "source": [
    "import pandas as pd"
   ]
  },
  {
   "cell_type": "code",
   "execution_count": 7,
   "metadata": {},
   "outputs": [
    {
     "name": "stdout",
     "output_type": "stream",
     "text": [
      "conexion exitosa\n",
      "('PostgreSQL 9.0.1, compiled by Visual C++ build 1500, 32-bit',)\n"
     ]
    }
   ],
   "source": [
    "import psycopg2\n",
    "\n",
    "try: \n",
    "    conn=psycopg2.connect(\n",
    "       host='sumar.larioja.gob.ar',\n",
    "       user='postgres',\n",
    "       password='sumarLR21',\n",
    "       database='sumar'\n",
    "       )\n",
    "    \n",
    "    print(\"conexion exitosa\")\n",
    "    cursor = conn.cursor()\n",
    "    cursor.execute(\"SELECT version()\")\n",
    "    row=cursor.fetchone()\n",
    "    print(row)\n",
    "    \n",
    "except Exception as ex:\n",
    "    print(ex)"
   ]
  },
  {
   "cell_type": "code",
   "execution_count": 8,
   "metadata": {},
   "outputs": [
    {
     "name": "stdout",
     "output_type": "stream",
     "text": [
      "Lista de esquemas:\n",
      "pg_toast\n",
      "pg_temp_1\n",
      "pg_toast_temp_1\n",
      "pg_catalog\n",
      "information_schema\n",
      "alta\n",
      "calidad\n",
      "capacitacion\n",
      "cardiopatia\n",
      "centro\n",
      "contabilidad\n",
      "expediente\n",
      "facturacion\n",
      "fichero\n",
      "general\n",
      "leche\n",
      "mensajes\n",
      "monitoreo\n",
      "nacer\n",
      "nomenclador\n",
      "permisos\n",
      "personal\n",
      "planillas\n",
      "pss\n",
      "public\n",
      "puco\n",
      "sistema\n",
      "tareas_divisionsoft\n",
      "trazadoras\n",
      "uad\n",
      "laravel\n"
     ]
    }
   ],
   "source": [
    "# Crear un cursor para ejecutar consultas SQL\n",
    "cursor = conn.cursor()\n",
    "\n",
    "# Consulta SQL para obtener la lista de esquemas\n",
    "query = \"SELECT schema_name FROM information_schema.schemata\"\n",
    "\n",
    "# Ejecutar la consulta\n",
    "cursor.execute(query)\n",
    "\n",
    "# Obtener los resultados\n",
    "esquemas = cursor.fetchall()\n",
    "\n",
    "# Imprimir los esquemas\n",
    "print(\"Lista de esquemas:\")\n",
    "for esquema in esquemas:\n",
    "    print(esquema[0])\n",
    "\n",
    "# Cerrar el cursor y la conexión\n",
    "cursor.close()\n"
   ]
  },
  {
   "cell_type": "code",
   "execution_count": 9,
   "metadata": {},
   "outputs": [
    {
     "name": "stdout",
     "output_type": "stream",
     "text": [
      "Tablas en el esquema 'contabilidad':\n",
      "saldo\n",
      "detalle_inciso\n",
      "incentivo\n",
      "egreso\n",
      "inciso\n",
      "ingreso\n"
     ]
    }
   ],
   "source": [
    "# Crear un cursor para ejecutar consultas SQL\n",
    "cursor = conn.cursor()\n",
    "\n",
    "# Esquema específico que deseas consultar\n",
    "esquema_especifico = \"contabilidad\"\n",
    "\n",
    "# Consulta SQL para obtener las tablas en un esquema específico\n",
    "query = f\"SELECT table_name FROM information_schema.tables WHERE table_schema = '{esquema_especifico}'\"\n",
    "\n",
    "# Ejecutar la consulta\n",
    "cursor.execute(query)\n",
    "\n",
    "# Obtener los resultados\n",
    "tablas = cursor.fetchall()\n",
    "\n",
    "# Imprimir las tablas\n",
    "print(f\"Tablas en el esquema '{esquema_especifico}':\")\n",
    "for tabla in tablas:\n",
    "    print(tabla[0])\n",
    "\n",
    "# Cerrar el cursor y la conexión\n",
    "cursor.close()\n"
   ]
  },
  {
   "cell_type": "code",
   "execution_count": 10,
   "metadata": {},
   "outputs": [
    {
     "name": "stderr",
     "output_type": "stream",
     "text": [
      "C:\\Users\\FRANCISCO\\AppData\\Local\\Temp\\ipykernel_16068\\4035201084.py:19: UserWarning: pandas only supports SQLAlchemy connectable (engine/connection) or database string URI or sqlite3 DBAPI2 connection. Other DBAPI2 objects are not tested. Please consider using SQLAlchemy.\n",
      "  df_egreso = pd.read_sql_query(query, conn)\n"
     ]
    },
    {
     "name": "stdout",
     "output_type": "stream",
     "text": [
      "         cuie perido_rendicion  \\\n",
      "0      L00004       2023-05-29   \n",
      "1      L94921       2022-12-30   \n",
      "2      L03857       2022-07-22   \n",
      "3      L94921       2023-04-11   \n",
      "4      L00004       2023-04-26   \n",
      "...       ...              ...   \n",
      "11957  L09094       2020-10-01   \n",
      "11958  L03927       2021-08-02   \n",
      "11959  L03922       2022-06-01   \n",
      "11960  L03938       2021-01-01   \n",
      "11961  L03929       2021-01-01   \n",
      "\n",
      "                                                   gasto  \\\n",
      "0      INSUMOS VARIOS                                ...   \n",
      "1      EQUIPAMIENTO MEDICO VARIOS                    ...   \n",
      "2      INSUMOS MEDICOS VARIOS                        ...   \n",
      "3      PC                                            ...   \n",
      "4      INSUMOS MEDICOS VARIOS                        ...   \n",
      "...                                                  ...   \n",
      "11957  GASTOS Y COMISIONES BANCARIAS                 ...   \n",
      "11958  GASTOS Y COMISIONES BANCARIAS                 ...   \n",
      "11959  GASTOS Y COMISIONES BANCARIAS                 ...   \n",
      "11960  GASTOS Y COMISIONES BANCARIAS                 ...   \n",
      "11961  GASTOS Y COMISIONES BANCARIAS                 ...   \n",
      "\n",
      "                                  categoria  factura_compra  monto_egreso  \\\n",
      "0                           INSUMOS - Otros  00005-00000064       9935640   \n",
      "1         INVERSIONES - Equipamiento Medico  00002-00000578       9546000   \n",
      "2                         INSUMOS - Medicos   0004-00002618       7774114   \n",
      "3      INVERSIONES - Equipamiento No Medico  00008-00000286       5543802   \n",
      "4                         INSUMOS - Medicos   0203-00000005       5168749   \n",
      "...                                     ...             ...           ...   \n",
      "11957                       INSUMOS - Otros                             0   \n",
      "11958                       INSUMOS - Otros                             0   \n",
      "11959                       INSUMOS - Otros                             0   \n",
      "11960                       INSUMOS - Otros                             0   \n",
      "11961                       INSUMOS - Otros                             0   \n",
      "\n",
      "                                              comentario  \n",
      "0      40 Baterias hrl 12280w 12vol 75amp- Montaje de...  \n",
      "1      EQ500maf - Equipo de rayos xdinar modelo 500 m...  \n",
      "2      Torre de videoendoscopia Olympus - Empr. Bioan...  \n",
      "3          CPU Y MONITOR MARCA GFAST MAS UPS MARCA LYONN  \n",
      "4                        Wiener labcm 250 c/cód de barra  \n",
      "...                                                  ...  \n",
      "11957                                                     \n",
      "11958                                                     \n",
      "11959                                                     \n",
      "11960                                                     \n",
      "11961                                                     \n",
      "\n",
      "[11962 rows x 7 columns]\n"
     ]
    }
   ],
   "source": [
    "# Consulta SQL para obtener los datos de una tabla en un esquema específico\n",
    "query = \"\"\"\n",
    "SELECT  e.cuie, \n",
    "\t\t\t\te.fecha_egreso AS Perido_Rendicion,\n",
    "\t\t\t\ti.nombre AS GASTO,\n",
    "\t\t\t\tinc.ins_nombre AS CATEGORIA,\n",
    "\t\t\t\te.factura_compra, \n",
    "\t\t\t\tCAST(e.monto_egreso AS INTEGER),\n",
    "\t\t\t\te.comentario\n",
    "FROM \"contabilidad\".\"egreso\" AS e\n",
    "LEFT JOIN contabilidad.detalle_inciso AS i\n",
    "ON e.id_gasto = i.\"id\"\n",
    "LEFT JOIN \"contabilidad\".\"inciso\" AS inc\n",
    "ON e.id_inciso = inc.id_inciso\n",
    "WHERE e.fecha_egreso > '2020-01-01'\n",
    "ORDER BY monto_egreso DESC\n",
    "\"\"\"\n",
    "# Crear un DataFrame a partir de la consulta\n",
    "df_egreso = pd.read_sql_query(query, conn)\n",
    "\n",
    "# Imprimir el DataFrame\n",
    "print(df_egreso)\n",
    "\n",
    "# Cerrar la conexión\n",
    "cursor.close()\n",
    "conn.close()"
   ]
  },
  {
   "cell_type": "code",
   "execution_count": 11,
   "metadata": {},
   "outputs": [
    {
     "data": {
      "text/html": [
       "<div>\n",
       "<style scoped>\n",
       "    .dataframe tbody tr th:only-of-type {\n",
       "        vertical-align: middle;\n",
       "    }\n",
       "\n",
       "    .dataframe tbody tr th {\n",
       "        vertical-align: top;\n",
       "    }\n",
       "\n",
       "    .dataframe thead th {\n",
       "        text-align: right;\n",
       "    }\n",
       "</style>\n",
       "<table border=\"1\" class=\"dataframe\">\n",
       "  <thead>\n",
       "    <tr style=\"text-align: right;\">\n",
       "      <th></th>\n",
       "      <th>cuie</th>\n",
       "      <th>perido_rendicion</th>\n",
       "      <th>gasto</th>\n",
       "      <th>categoria</th>\n",
       "      <th>factura_compra</th>\n",
       "      <th>monto_egreso</th>\n",
       "      <th>comentario</th>\n",
       "    </tr>\n",
       "  </thead>\n",
       "  <tbody>\n",
       "    <tr>\n",
       "      <th>0</th>\n",
       "      <td>L00004</td>\n",
       "      <td>2023-05-29</td>\n",
       "      <td>INSUMOS VARIOS                                ...</td>\n",
       "      <td>INSUMOS - Otros</td>\n",
       "      <td>00005-00000064</td>\n",
       "      <td>9935640</td>\n",
       "      <td>40 Baterias hrl 12280w 12vol 75amp- Montaje de...</td>\n",
       "    </tr>\n",
       "    <tr>\n",
       "      <th>1</th>\n",
       "      <td>L94921</td>\n",
       "      <td>2022-12-30</td>\n",
       "      <td>EQUIPAMIENTO MEDICO VARIOS                    ...</td>\n",
       "      <td>INVERSIONES - Equipamiento Medico</td>\n",
       "      <td>00002-00000578</td>\n",
       "      <td>9546000</td>\n",
       "      <td>EQ500maf - Equipo de rayos xdinar modelo 500 m...</td>\n",
       "    </tr>\n",
       "    <tr>\n",
       "      <th>2</th>\n",
       "      <td>L03857</td>\n",
       "      <td>2022-07-22</td>\n",
       "      <td>INSUMOS MEDICOS VARIOS                        ...</td>\n",
       "      <td>INSUMOS - Medicos</td>\n",
       "      <td>0004-00002618</td>\n",
       "      <td>7774114</td>\n",
       "      <td>Torre de videoendoscopia Olympus - Empr. Bioan...</td>\n",
       "    </tr>\n",
       "    <tr>\n",
       "      <th>3</th>\n",
       "      <td>L94921</td>\n",
       "      <td>2023-04-11</td>\n",
       "      <td>PC                                            ...</td>\n",
       "      <td>INVERSIONES - Equipamiento No Medico</td>\n",
       "      <td>00008-00000286</td>\n",
       "      <td>5543802</td>\n",
       "      <td>CPU Y MONITOR MARCA GFAST MAS UPS MARCA LYONN</td>\n",
       "    </tr>\n",
       "    <tr>\n",
       "      <th>4</th>\n",
       "      <td>L00004</td>\n",
       "      <td>2023-04-26</td>\n",
       "      <td>INSUMOS MEDICOS VARIOS                        ...</td>\n",
       "      <td>INSUMOS - Medicos</td>\n",
       "      <td>0203-00000005</td>\n",
       "      <td>5168749</td>\n",
       "      <td>Wiener labcm 250 c/cód de barra</td>\n",
       "    </tr>\n",
       "  </tbody>\n",
       "</table>\n",
       "</div>"
      ],
      "text/plain": [
       "     cuie perido_rendicion                                              gasto  \\\n",
       "0  L00004       2023-05-29  INSUMOS VARIOS                                ...   \n",
       "1  L94921       2022-12-30  EQUIPAMIENTO MEDICO VARIOS                    ...   \n",
       "2  L03857       2022-07-22  INSUMOS MEDICOS VARIOS                        ...   \n",
       "3  L94921       2023-04-11  PC                                            ...   \n",
       "4  L00004       2023-04-26  INSUMOS MEDICOS VARIOS                        ...   \n",
       "\n",
       "                              categoria  factura_compra  monto_egreso  \\\n",
       "0                       INSUMOS - Otros  00005-00000064       9935640   \n",
       "1     INVERSIONES - Equipamiento Medico  00002-00000578       9546000   \n",
       "2                     INSUMOS - Medicos   0004-00002618       7774114   \n",
       "3  INVERSIONES - Equipamiento No Medico  00008-00000286       5543802   \n",
       "4                     INSUMOS - Medicos   0203-00000005       5168749   \n",
       "\n",
       "                                          comentario  \n",
       "0  40 Baterias hrl 12280w 12vol 75amp- Montaje de...  \n",
       "1  EQ500maf - Equipo de rayos xdinar modelo 500 m...  \n",
       "2  Torre de videoendoscopia Olympus - Empr. Bioan...  \n",
       "3      CPU Y MONITOR MARCA GFAST MAS UPS MARCA LYONN  \n",
       "4                    Wiener labcm 250 c/cód de barra  "
      ]
     },
     "execution_count": 11,
     "metadata": {},
     "output_type": "execute_result"
    }
   ],
   "source": [
    "df_egreso.head()"
   ]
  },
  {
   "cell_type": "code",
   "execution_count": 12,
   "metadata": {},
   "outputs": [],
   "source": [
    "df_egreso['perido_rendicion'] = pd.to_datetime(df_egreso['perido_rendicion'])"
   ]
  },
  {
   "cell_type": "code",
   "execution_count": 13,
   "metadata": {},
   "outputs": [
    {
     "name": "stdout",
     "output_type": "stream",
     "text": [
      "<class 'pandas.core.frame.DataFrame'>\n",
      "RangeIndex: 11962 entries, 0 to 11961\n",
      "Data columns (total 7 columns):\n",
      " #   Column            Non-Null Count  Dtype         \n",
      "---  ------            --------------  -----         \n",
      " 0   cuie              11962 non-null  object        \n",
      " 1   perido_rendicion  11962 non-null  datetime64[ns]\n",
      " 2   gasto             11921 non-null  object        \n",
      " 3   categoria         11962 non-null  object        \n",
      " 4   factura_compra    11962 non-null  object        \n",
      " 5   monto_egreso      11962 non-null  int64         \n",
      " 6   comentario        11962 non-null  object        \n",
      "dtypes: datetime64[ns](1), int64(1), object(5)\n",
      "memory usage: 654.3+ KB\n"
     ]
    }
   ],
   "source": [
    "df_egreso.info()"
   ]
  },
  {
   "cell_type": "code",
   "execution_count": 14,
   "metadata": {},
   "outputs": [],
   "source": [
    "df_egreso.to_csv('tablas_powerBI/df_egreso.csv', index=False)\n",
    "\n"
   ]
  }
 ],
 "metadata": {
  "kernelspec": {
   "display_name": "env",
   "language": "python",
   "name": "python3"
  },
  "language_info": {
   "codemirror_mode": {
    "name": "ipython",
    "version": 3
   },
   "file_extension": ".py",
   "mimetype": "text/x-python",
   "name": "python",
   "nbconvert_exporter": "python",
   "pygments_lexer": "ipython3",
   "version": "3.12.0"
  }
 },
 "nbformat": 4,
 "nbformat_minor": 2
}
